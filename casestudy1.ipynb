{
 "cells": [
  {
   "cell_type": "markdown",
   "id": "cc9b9342",
   "metadata": {},
   "source": [
    "# Case Study #1\n",
    "# From Data Science Bookcamp\n",
    "\n",
    "## Computing probabilities using python"
   ]
  },
  {
   "cell_type": "markdown",
   "id": "1832de6c",
   "metadata": {},
   "source": [
    "Sample space analysis: An equation-free approach for measuring uncertainty in outcomes\n",
    "\n",
    "Sample space definition: Is the set of all the possible outcomes an action could produce."
   ]
  },
  {
   "cell_type": "markdown",
   "id": "9f2086b0",
   "metadata": {},
   "source": [
    "# #Coin Flipping"
   ]
  },
  {
   "cell_type": "code",
   "execution_count": 5,
   "id": "6f920ba9",
   "metadata": {},
   "outputs": [],
   "source": [
    "sample_space = ['Heads', 'Tails'] #Storing elements in curly braces creates a python set"
   ]
  },
  {
   "cell_type": "markdown",
   "id": "af56d515",
   "metadata": {},
   "source": [
    "Suppose we choose an element of sample_space at random. What fraction of the\n",
    "time will the chosen element equal to Heads?\n",
    "Well, our sample_space holds two possible elements.\n",
    "Therefore, we expect Heads to be selected with a frequency of 1/2"
   ]
  },
  {
   "cell_type": "code",
   "execution_count": 6,
   "id": "a6ff7041",
   "metadata": {},
   "outputs": [
    {
     "name": "stdout",
     "output_type": "stream",
     "text": [
      "Probability of choosing heads is 0.5\n"
     ]
    }
   ],
   "source": [
    "probability_heads = 1 / len(sample_space)\n",
    "print(f'Probability of choosing heads is {probability_heads}')"
   ]
  },
  {
   "cell_type": "markdown",
   "id": "5a3dcb06",
   "metadata": {},
   "source": [
    "Four event conditions applied to same sample space. The sample space contains two possible outcomes: Heads or Tails. Each function below is a yes-no event. Each function filters out those outcomes that do not satisfy its terms. The remaining outcomes form an event. Each event contains a subset of the outcomes found in the sample space. Four events are possible:\n",
    "- Heads, Tails\n",
    "- Heads\n",
    "- Tails\n",
    "- Neither"
   ]
  },
  {
   "cell_type": "code",
   "execution_count": 7,
   "id": "9af04223",
   "metadata": {},
   "outputs": [],
   "source": [
    "def is_heads_or_tails(outcome):\n",
    "    return outcome in {'Heads', \"Tails\"}\n",
    "\n",
    "def is_neither(outcome):\n",
    "    return not is_heads_or_tails(outcome)\n",
    "\n",
    "def is_heads(outcome): \n",
    "    return outcome == 'Heads'\n",
    "\n",
    "def is_tails(outcome):\n",
    "    return outcome == 'Tails'\n",
    "\n",
    "def get_matching_event(event_condition, sample_space):\n",
    "    return set ([outcome for outcome in sample_space if event_condition(outcome)])"
   ]
  },
  {
   "cell_type": "code",
   "execution_count": 8,
   "id": "de31b07d",
   "metadata": {},
   "outputs": [
    {
     "name": "stdout",
     "output_type": "stream",
     "text": [
      "Event Condition: is_heads_or_tails\n",
      "Event: {'Tails', 'Heads'}\n",
      "\n",
      "Event Condition: is_heads\n",
      "Event: {'Heads'}\n",
      "\n",
      "Event Condition: is_tails\n",
      "Event: {'Tails'}\n",
      "\n",
      "Event Condition: is_neither\n",
      "Event: set()\n",
      "\n"
     ]
    }
   ],
   "source": [
    "event_conditions = [is_heads_or_tails, is_heads, is_tails, is_neither]\n",
    "\n",
    "for event_condition in event_conditions:\n",
    "    print(f'Event Condition: {event_condition.__name__}') #prints the name of an event_condition function\n",
    "    event = get_matching_event(event_condition, sample_space)\n",
    "    print(f'Event: {event}\\n')"
   ]
  },
  {
   "cell_type": "code",
   "execution_count": 9,
   "id": "f6802ad0",
   "metadata": {},
   "outputs": [
    {
     "name": "stdout",
     "output_type": "stream",
     "text": [
      "Probability of event arising form 'is_heads_or_tails' is 1.0\n",
      "Probability of event arising form 'is_heads' is 0.5\n",
      "Probability of event arising form 'is_tails' is 0.5\n",
      "Probability of event arising form 'is_neither' is 0.0\n"
     ]
    }
   ],
   "source": [
    "def compute_probability(event_condition, generic_sample_space):\n",
    "    event = get_matching_event(event_condition, sample_space) #the compute_probability function extracts the event associated with an inputted event condition to compute its probability\n",
    "    return len(event) / len(generic_sample_space) #probability is equal to event size divided by sample size\n",
    "\n",
    "for event_condition in event_conditions:\n",
    "    prob = compute_probability(event_condition, sample_space)\n",
    "    name = event_condition.__name__\n",
    "    print(f\"Probability of event arising form '{name}' is {prob}\")"
   ]
  },
  {
   "cell_type": "markdown",
   "id": "a44d83cf",
   "metadata": {},
   "source": [
    "# Analyzing a biased coin"
   ]
  },
  {
   "cell_type": "code",
   "execution_count": 10,
   "id": "7e059df6",
   "metadata": {},
   "outputs": [],
   "source": [
    "weighted_sample_space = {'Heads':4, 'Tails':1}\n",
    "#we needed to create a dictionary. This allows us to redefine the size of sample space as the sum of all dictionary weights."
   ]
  },
  {
   "cell_type": "markdown",
   "id": "b42a0eae",
   "metadata": {},
   "source": [
    "Our new sample space is stored in a dictionary. This allows us to redefine the size of the sample space as the sum of all dictionary weights. Within weighted_sample_space, that sum will equal 5."
   ]
  },
  {
   "cell_type": "code",
   "execution_count": 12,
   "id": "324102d6",
   "metadata": {},
   "outputs": [],
   "source": [
    "sample_space_size = sum(weighted_sample_space.values())\n",
    "assert sample_space_size == 5"
   ]
  },
  {
   "cell_type": "markdown",
   "id": "1284ebaf",
   "metadata": {},
   "source": [
    "we can redefine event size in a similar manner. Each event is a set of outcomes, and those outcomes map to weights. Summing over the weights yields the event size. Thus the size of the even satisfying the is_heads_or_tails is also 5"
   ]
  },
  {
   "cell_type": "code",
   "execution_count": 13,
   "id": "6929d1be",
   "metadata": {},
   "outputs": [],
   "source": [
    "event = get_matching_event(is_heads_or_tails, weighted_sample_space)\n",
    "event_size = sum(weighted_sample_space[outcome]\n",
    "                for outcome in event)\n",
    "assert event_size == 5"
   ]
  },
  {
   "cell_type": "code",
   "execution_count": 14,
   "id": "8f3ec638",
   "metadata": {},
   "outputs": [
    {
     "name": "stdout",
     "output_type": "stream",
     "text": [
      "Probability of event arising from 'is_heads_or_tails' is 1.0\n",
      "Probability of event arising from 'is_heads' is 0.8\n",
      "Probability of event arising from 'is_tails' is 0.2\n",
      "Probability of event arising from 'is_neither' is 0.0\n"
     ]
    }
   ],
   "source": [
    "def compute_event_probability(event_condition, generic_sample_space):\n",
    "    event = get_matching_event(event_condition, generic_sample_space)\n",
    "    if type(generic_sample_space) == type(set()): #checks wether generic_event_space is a set\n",
    "        return len(event) / len(generic_sample_space)\n",
    "    \n",
    "    event_size = sum(generic_sample_space[outcome]\n",
    "                    for outcome in event)\n",
    "    return event_size / sum(generic_sample_space.values())\n",
    "\n",
    "for event_condition in event_conditions:\n",
    "    prob = compute_event_probability(event_condition, weighted_sample_space)\n",
    "    name = event_condition.__name__\n",
    "    print(f\"Probability of event arising from '{name}' is {prob}\")"
   ]
  },
  {
   "cell_type": "code",
   "execution_count": null,
   "id": "0fcd9dc9",
   "metadata": {},
   "outputs": [],
   "source": []
  },
  {
   "cell_type": "code",
   "execution_count": null,
   "id": "d9258068",
   "metadata": {},
   "outputs": [],
   "source": []
  }
 ],
 "metadata": {
  "kernelspec": {
   "display_name": "Python 3 (ipykernel)",
   "language": "python",
   "name": "python3"
  },
  "language_info": {
   "codemirror_mode": {
    "name": "ipython",
    "version": 3
   },
   "file_extension": ".py",
   "mimetype": "text/x-python",
   "name": "python",
   "nbconvert_exporter": "python",
   "pygments_lexer": "ipython3",
   "version": "3.9.7"
  }
 },
 "nbformat": 4,
 "nbformat_minor": 5
}
